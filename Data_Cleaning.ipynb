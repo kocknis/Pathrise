{
  "cells": [
    {
      "cell_type": "markdown",
      "metadata": {
        "id": "ROM0Or6tHcu5"
      },
      "source": [
        "### **import libraries**"
      ]
    },
    {
      "cell_type": "code",
      "execution_count": null,
      "metadata": {
        "id": "iBgZnMYrHT94"
      },
      "outputs": [],
      "source": [
        "from google.colab import files\n",
        "import pandas as pd\n",
        "import numpy as np\n",
        "import seaborn as sns\n",
        "import matplotlib.pyplot as plt"
      ]
    },
    {
      "cell_type": "markdown",
      "metadata": {
        "id": "0SlyRvBgHnHu"
      },
      "source": [
        "### **file upload**"
      ]
    },
    {
      "cell_type": "code",
      "execution_count": null,
      "metadata": {
        "colab": {
          "base_uri": "https://localhost:8080/",
          "height": 73
        },
        "id": "GlYFG3dlHl5Q",
        "outputId": "ffd42eba-6d15-4414-a2bd-e3d533564d5e"
      },
      "outputs": [
        {
          "output_type": "display_data",
          "data": {
            "text/plain": [
              "<IPython.core.display.HTML object>"
            ],
            "text/html": [
              "\n",
              "     <input type=\"file\" id=\"files-9b4a0c51-a272-4ece-80d2-aaba92d8f09a\" name=\"files[]\" multiple disabled\n",
              "        style=\"border:none\" />\n",
              "     <output id=\"result-9b4a0c51-a272-4ece-80d2-aaba92d8f09a\">\n",
              "      Upload widget is only available when the cell has been executed in the\n",
              "      current browser session. Please rerun this cell to enable.\n",
              "      </output>\n",
              "      <script>// Copyright 2017 Google LLC\n",
              "//\n",
              "// Licensed under the Apache License, Version 2.0 (the \"License\");\n",
              "// you may not use this file except in compliance with the License.\n",
              "// You may obtain a copy of the License at\n",
              "//\n",
              "//      http://www.apache.org/licenses/LICENSE-2.0\n",
              "//\n",
              "// Unless required by applicable law or agreed to in writing, software\n",
              "// distributed under the License is distributed on an \"AS IS\" BASIS,\n",
              "// WITHOUT WARRANTIES OR CONDITIONS OF ANY KIND, either express or implied.\n",
              "// See the License for the specific language governing permissions and\n",
              "// limitations under the License.\n",
              "\n",
              "/**\n",
              " * @fileoverview Helpers for google.colab Python module.\n",
              " */\n",
              "(function(scope) {\n",
              "function span(text, styleAttributes = {}) {\n",
              "  const element = document.createElement('span');\n",
              "  element.textContent = text;\n",
              "  for (const key of Object.keys(styleAttributes)) {\n",
              "    element.style[key] = styleAttributes[key];\n",
              "  }\n",
              "  return element;\n",
              "}\n",
              "\n",
              "// Max number of bytes which will be uploaded at a time.\n",
              "const MAX_PAYLOAD_SIZE = 100 * 1024;\n",
              "\n",
              "function _uploadFiles(inputId, outputId) {\n",
              "  const steps = uploadFilesStep(inputId, outputId);\n",
              "  const outputElement = document.getElementById(outputId);\n",
              "  // Cache steps on the outputElement to make it available for the next call\n",
              "  // to uploadFilesContinue from Python.\n",
              "  outputElement.steps = steps;\n",
              "\n",
              "  return _uploadFilesContinue(outputId);\n",
              "}\n",
              "\n",
              "// This is roughly an async generator (not supported in the browser yet),\n",
              "// where there are multiple asynchronous steps and the Python side is going\n",
              "// to poll for completion of each step.\n",
              "// This uses a Promise to block the python side on completion of each step,\n",
              "// then passes the result of the previous step as the input to the next step.\n",
              "function _uploadFilesContinue(outputId) {\n",
              "  const outputElement = document.getElementById(outputId);\n",
              "  const steps = outputElement.steps;\n",
              "\n",
              "  const next = steps.next(outputElement.lastPromiseValue);\n",
              "  return Promise.resolve(next.value.promise).then((value) => {\n",
              "    // Cache the last promise value to make it available to the next\n",
              "    // step of the generator.\n",
              "    outputElement.lastPromiseValue = value;\n",
              "    return next.value.response;\n",
              "  });\n",
              "}\n",
              "\n",
              "/**\n",
              " * Generator function which is called between each async step of the upload\n",
              " * process.\n",
              " * @param {string} inputId Element ID of the input file picker element.\n",
              " * @param {string} outputId Element ID of the output display.\n",
              " * @return {!Iterable<!Object>} Iterable of next steps.\n",
              " */\n",
              "function* uploadFilesStep(inputId, outputId) {\n",
              "  const inputElement = document.getElementById(inputId);\n",
              "  inputElement.disabled = false;\n",
              "\n",
              "  const outputElement = document.getElementById(outputId);\n",
              "  outputElement.innerHTML = '';\n",
              "\n",
              "  const pickedPromise = new Promise((resolve) => {\n",
              "    inputElement.addEventListener('change', (e) => {\n",
              "      resolve(e.target.files);\n",
              "    });\n",
              "  });\n",
              "\n",
              "  const cancel = document.createElement('button');\n",
              "  inputElement.parentElement.appendChild(cancel);\n",
              "  cancel.textContent = 'Cancel upload';\n",
              "  const cancelPromise = new Promise((resolve) => {\n",
              "    cancel.onclick = () => {\n",
              "      resolve(null);\n",
              "    };\n",
              "  });\n",
              "\n",
              "  // Wait for the user to pick the files.\n",
              "  const files = yield {\n",
              "    promise: Promise.race([pickedPromise, cancelPromise]),\n",
              "    response: {\n",
              "      action: 'starting',\n",
              "    }\n",
              "  };\n",
              "\n",
              "  cancel.remove();\n",
              "\n",
              "  // Disable the input element since further picks are not allowed.\n",
              "  inputElement.disabled = true;\n",
              "\n",
              "  if (!files) {\n",
              "    return {\n",
              "      response: {\n",
              "        action: 'complete',\n",
              "      }\n",
              "    };\n",
              "  }\n",
              "\n",
              "  for (const file of files) {\n",
              "    const li = document.createElement('li');\n",
              "    li.append(span(file.name, {fontWeight: 'bold'}));\n",
              "    li.append(span(\n",
              "        `(${file.type || 'n/a'}) - ${file.size} bytes, ` +\n",
              "        `last modified: ${\n",
              "            file.lastModifiedDate ? file.lastModifiedDate.toLocaleDateString() :\n",
              "                                    'n/a'} - `));\n",
              "    const percent = span('0% done');\n",
              "    li.appendChild(percent);\n",
              "\n",
              "    outputElement.appendChild(li);\n",
              "\n",
              "    const fileDataPromise = new Promise((resolve) => {\n",
              "      const reader = new FileReader();\n",
              "      reader.onload = (e) => {\n",
              "        resolve(e.target.result);\n",
              "      };\n",
              "      reader.readAsArrayBuffer(file);\n",
              "    });\n",
              "    // Wait for the data to be ready.\n",
              "    let fileData = yield {\n",
              "      promise: fileDataPromise,\n",
              "      response: {\n",
              "        action: 'continue',\n",
              "      }\n",
              "    };\n",
              "\n",
              "    // Use a chunked sending to avoid message size limits. See b/62115660.\n",
              "    let position = 0;\n",
              "    do {\n",
              "      const length = Math.min(fileData.byteLength - position, MAX_PAYLOAD_SIZE);\n",
              "      const chunk = new Uint8Array(fileData, position, length);\n",
              "      position += length;\n",
              "\n",
              "      const base64 = btoa(String.fromCharCode.apply(null, chunk));\n",
              "      yield {\n",
              "        response: {\n",
              "          action: 'append',\n",
              "          file: file.name,\n",
              "          data: base64,\n",
              "        },\n",
              "      };\n",
              "\n",
              "      let percentDone = fileData.byteLength === 0 ?\n",
              "          100 :\n",
              "          Math.round((position / fileData.byteLength) * 100);\n",
              "      percent.textContent = `${percentDone}% done`;\n",
              "\n",
              "    } while (position < fileData.byteLength);\n",
              "  }\n",
              "\n",
              "  // All done.\n",
              "  yield {\n",
              "    response: {\n",
              "      action: 'complete',\n",
              "    }\n",
              "  };\n",
              "}\n",
              "\n",
              "scope.google = scope.google || {};\n",
              "scope.google.colab = scope.google.colab || {};\n",
              "scope.google.colab._files = {\n",
              "  _uploadFiles,\n",
              "  _uploadFilesContinue,\n",
              "};\n",
              "})(self);\n",
              "</script> "
            ]
          },
          "metadata": {}
        },
        {
          "output_type": "stream",
          "name": "stdout",
          "text": [
            "Saving Data_Pathrise.xlsx to Data_Pathrise.xlsx\n"
          ]
        }
      ],
      "source": [
        "uploaded = files.upload()"
      ]
    },
    {
      "cell_type": "markdown",
      "metadata": {
        "id": "7wjIFmvWH09b"
      },
      "source": [
        "### **read data frame**"
      ]
    },
    {
      "cell_type": "code",
      "execution_count": null,
      "metadata": {
        "id": "_jBLaSNcH1FV"
      },
      "outputs": [],
      "source": [
        "df=pd.read_excel('Data_Pathrise.xlsx')"
      ]
    },
    {
      "cell_type": "markdown",
      "metadata": {
        "id": "6Vpfa03iH8ph"
      },
      "source": [
        "### **Data cleaning**"
      ]
    },
    {
      "cell_type": "code",
      "execution_count": null,
      "metadata": {
        "id": "jeFLODpfHUHw"
      },
      "outputs": [],
      "source": [
        "df['work_authorization_status'] = df['work_authorization_status'].replace('F1 Visa/OPT', 'OPT')\n",
        "df['work_authorization_status'] = df['work_authorization_status'].replace('F1 Visa/CPT', 'CPT')"
      ]
    },
    {
      "cell_type": "code",
      "source": [
        "df.dropna(subset=['cohort_tag'], inplace=True)"
      ],
      "metadata": {
        "id": "F1INXZMPcMwc"
      },
      "execution_count": null,
      "outputs": []
    },
    {
      "cell_type": "code",
      "execution_count": null,
      "metadata": {
        "id": "DohRuBURIIyJ"
      },
      "outputs": [],
      "source": [
        "df['start_work_month']=df['cohort_tag'].str[:3]"
      ]
    },
    {
      "cell_type": "code",
      "execution_count": null,
      "metadata": {
        "id": "8YrFIXIGII1J"
      },
      "outputs": [],
      "source": [
        "df['start year']=df['cohort_tag'].str[-3:-1]"
      ]
    },
    {
      "cell_type": "code",
      "execution_count": null,
      "metadata": {
        "id": "lyDwNkQiII37"
      },
      "outputs": [],
      "source": [
        "df['Start year']='20' + df['start year']"
      ]
    },
    {
      "cell_type": "code",
      "execution_count": null,
      "metadata": {
        "id": "e4WuAkSkII9K"
      },
      "outputs": [],
      "source": [
        "df['start_work_decade']=df['cohort_tag'].str[-1]\n",
        "df=df[df['start_work_decade']!='a']"
      ]
    },
    {
      "cell_type": "code",
      "execution_count": null,
      "metadata": {
        "id": "dQRPsW1EHUKg"
      },
      "outputs": [],
      "source": [
        "df=df[df['pathrise_status']!='Active']\n",
        "df=df[df['pathrise_status']!='MIA']\n",
        "df=df[df['pathrise_status']!='Deferred']\n",
        "df=df[df['pathrise_status']!='Break']"
      ]
    },
    {
      "cell_type": "code",
      "execution_count": null,
      "metadata": {
        "id": "i82MrujuHUNa",
        "colab": {
          "base_uri": "https://localhost:8080/"
        },
        "outputId": "b149d81b-4fc2-4ec1-94d6-f08ef4d4d15c"
      },
      "outputs": [
        {
          "output_type": "execute_result",
          "data": {
            "text/plain": [
              "2         Master's Degree\n",
              "3       Bachelor's Degree\n",
              "4       Bachelor's Degree\n",
              "5         Master's Degree\n",
              "6         Master's Degree\n",
              "              ...        \n",
              "2535      Master's Degree\n",
              "2538      Master's Degree\n",
              "2539      Master's Degree\n",
              "2540      Master's Degree\n",
              "2543      Master's Degree\n",
              "Name: highest_level_of_education, Length: 1886, dtype: object"
            ]
          },
          "metadata": {},
          "execution_count": 11
        }
      ],
      "source": [
        "df['highest_level_of_education'].replace('GED or equivalent','High School Graduate')"
      ]
    },
    {
      "cell_type": "code",
      "execution_count": null,
      "metadata": {
        "id": "ApeDuDcbJReZ",
        "colab": {
          "base_uri": "https://localhost:8080/"
        },
        "outputId": "25cea7f4-0e9f-4fe2-8cc3-35acc9834e91"
      },
      "outputs": [
        {
          "output_type": "execute_result",
          "data": {
            "text/plain": [
              "2         Master's Degree\n",
              "3       Bachelor's Degree\n",
              "4       Bachelor's Degree\n",
              "5         Master's Degree\n",
              "6         Master's Degree\n",
              "              ...        \n",
              "2535      Master's Degree\n",
              "2538      Master's Degree\n",
              "2539      Master's Degree\n",
              "2540      Master's Degree\n",
              "2543      Master's Degree\n",
              "Name: highest_level_of_education, Length: 1886, dtype: object"
            ]
          },
          "metadata": {},
          "execution_count": 12
        }
      ],
      "source": [
        "df['highest_level_of_education'].replace('Some College, No Degree','No Degree')"
      ]
    },
    {
      "cell_type": "code",
      "execution_count": null,
      "metadata": {
        "id": "YC1sY0nFJRhJ"
      },
      "outputs": [],
      "source": [
        "df['gender'].fillna('Decline to Self Identify', inplace=True)"
      ]
    },
    {
      "cell_type": "code",
      "execution_count": null,
      "metadata": {
        "id": "EEndh1i5JRlp"
      },
      "outputs": [],
      "source": [
        "df['biggest_challenge_in_search'].fillna( 'Hearing back on my applications', inplace=True)"
      ]
    },
    {
      "cell_type": "code",
      "execution_count": null,
      "metadata": {
        "id": "TOUCaBs5JRoZ"
      },
      "outputs": [],
      "source": [
        "df['professional_experience'].fillna('1-2 years ', inplace=True)"
      ]
    },
    {
      "cell_type": "code",
      "execution_count": null,
      "metadata": {
        "id": "wWkfXq5AHUP4"
      },
      "outputs": [],
      "source": [
        "df['work_authorization_status'].fillna('Citizen', inplace=True)"
      ]
    },
    {
      "cell_type": "code",
      "execution_count": null,
      "metadata": {
        "id": "78goXmMdHUSy"
      },
      "outputs": [],
      "source": [
        "df['length_of_job_search'].fillna(\"Less than one month\", inplace=True)"
      ]
    },
    {
      "cell_type": "code",
      "execution_count": null,
      "metadata": {
        "id": "7k3gpTMpHUVg"
      },
      "outputs": [],
      "source": [
        "df['race'].fillna('Decline to Self Identify', inplace=True)"
      ]
    },
    {
      "cell_type": "code",
      "execution_count": null,
      "metadata": {
        "id": "DpbO4cYSKEzL"
      },
      "outputs": [],
      "source": [
        "df['employment_status '].fillna('Student', inplace=True)"
      ]
    },
    {
      "cell_type": "code",
      "execution_count": null,
      "metadata": {
        "id": "DErVoSCAKE1h"
      },
      "outputs": [],
      "source": [
        "df['highest_level_of_education'].fillna(\"Bachelor's Degree\", inplace=True)"
      ]
    },
    {
      "cell_type": "code",
      "execution_count": null,
      "metadata": {
        "id": "sDgjxvFIKE4P"
      },
      "outputs": [],
      "source": [
        "mean = df['number_of_interviews'].mean()\n",
        "df['number_of_interviews'].fillna(mean, inplace=True)"
      ]
    },
    {
      "cell_type": "code",
      "source": [
        "mapping = {\n",
        "    'Less than one month': 'Short',\n",
        "    '1-2 months': 'Short',\n",
        "    '3-5 months': 'Long',\n",
        "    '6 months to a year': 'Long',\n",
        "    'Over a year': 'Long'\n",
        "}\n",
        "\n",
        "# Replace values in the 'length_of_job_search' column\n",
        "df['length_of_job_search'] = df['length_of_job_search'].replace(mapping)\n",
        "df['length_of_job_search'].value_counts()"
      ],
      "metadata": {
        "colab": {
          "base_uri": "https://localhost:8080/"
        },
        "id": "EIKMTJ7beUDY",
        "outputId": "d547adc1-0038-47b0-dfb4-ecaec3e6ecfe"
      },
      "execution_count": null,
      "outputs": [
        {
          "output_type": "execute_result",
          "data": {
            "text/plain": [
              "Short    1264\n",
              "Long      622\n",
              "Name: length_of_job_search, dtype: int64"
            ]
          },
          "metadata": {},
          "execution_count": 22
        }
      ]
    },
    {
      "cell_type": "code",
      "execution_count": null,
      "metadata": {
        "id": "Jv4tAYJXKd9D"
      },
      "outputs": [],
      "source": [
        "columns_to_drop = ['number_of_applications', 'start year' ,'pathrise_status', 'cohort_tag','program_duration_days','id']\n",
        "df = df.drop(columns=columns_to_drop)"
      ]
    },
    {
      "cell_type": "code",
      "execution_count": null,
      "metadata": {
        "colab": {
          "base_uri": "https://localhost:8080/"
        },
        "id": "N6vfmtWXKeCm",
        "outputId": "6804ab7d-d762-40d3-dc59-335300226ae3"
      },
      "outputs": [
        {
          "output_type": "execute_result",
          "data": {
            "text/plain": [
              "primary_track                  0\n",
              "placed                         0\n",
              "employment_status              0\n",
              "highest_level_of_education     0\n",
              "length_of_job_search           0\n",
              "biggest_challenge_in_search    0\n",
              "professional_experience        0\n",
              "work_authorization_status      0\n",
              "number_of_interviews           0\n",
              "gender                         0\n",
              "race                           0\n",
              "start_work_month               0\n",
              "Start year                     0\n",
              "start_work_decade              0\n",
              "dtype: int64"
            ]
          },
          "metadata": {},
          "execution_count": 24
        }
      ],
      "source": [
        "df.isna().sum()"
      ]
    },
    {
      "cell_type": "code",
      "execution_count": null,
      "metadata": {
        "colab": {
          "base_uri": "https://localhost:8080/"
        },
        "id": "EpuRp_hEKeFT",
        "outputId": "266b8cc0-48e3-4934-d118-36ac1b83c1f9"
      },
      "outputs": [
        {
          "output_type": "execute_result",
          "data": {
            "text/plain": [
              "(1886, 14)"
            ]
          },
          "metadata": {},
          "execution_count": 25
        }
      ],
      "source": [
        "df.shape"
      ]
    },
    {
      "cell_type": "markdown",
      "metadata": {
        "id": "l93clisMOlm0"
      },
      "source": [
        "### **EDA**"
      ]
    },
    {
      "cell_type": "code",
      "execution_count": null,
      "metadata": {
        "colab": {
          "base_uri": "https://localhost:8080/",
          "height": 467
        },
        "id": "qZqrEyzPK_7I",
        "outputId": "21351bce-f41a-46e7-8bd8-006fe5d2607e"
      },
      "outputs": [
        {
          "output_type": "execute_result",
          "data": {
            "text/plain": [
              "<Axes: xlabel='length_of_job_search', ylabel='count'>"
            ]
          },
          "metadata": {},
          "execution_count": 26
        },
        {
          "output_type": "display_data",
          "data": {
            "text/plain": [
              "<Figure size 640x480 with 1 Axes>"
            ],
            "image/png": "[encoded data removed]"
          },
          "metadata": {}
        }
      ],
      "source": [
        "sns.countplot(x='length_of_job_search', data=df, hue='placed')"
      ]
    },
    {
      "cell_type": "code",
      "execution_count": null,
      "metadata": {
        "colab": {
          "base_uri": "https://localhost:8080/",
          "height": 693
        },
        "id": "6H_4cusqK__u",
        "outputId": "7c2604f6-4506-43d0-a7a4-070f9f3284d7"
      },
      "outputs": [
        {
          "output_type": "execute_result",
          "data": {
            "text/plain": [
              "([0, 1, 2, 3, 4, 5, 6, 7, 8, 9, 10, 11],\n",
              " [Text(0, 0, 'AUG'),\n",
              "  Text(1, 0, 'SEP'),\n",
              "  Text(2, 0, 'OCT'),\n",
              "  Text(3, 0, 'NOV'),\n",
              "  Text(4, 0, 'JAN'),\n",
              "  Text(5, 0, 'DEC'),\n",
              "  Text(6, 0, 'JUL'),\n",
              "  Text(7, 0, 'MAR'),\n",
              "  Text(8, 0, 'FEB'),\n",
              "  Text(9, 0, 'APR'),\n",
              "  Text(10, 0, 'JUN'),\n",
              "  Text(11, 0, 'MAY')])"
            ]
          },
          "metadata": {},
          "execution_count": 27
        },
        {
          "output_type": "display_data",
          "data": {
            "text/plain": [
              "<Figure size 640x480 with 1 Axes>"
            ],
            "image/png": "[encoded data removed]"
          },
          "metadata": {}
        }
      ],
      "source": [
        "sns.countplot(x='start_work_month',data= df)\n",
        "plt.xticks(rotation=90)"
      ]
    },
    {
      "cell_type": "code",
      "execution_count": null,
      "metadata": {
        "colab": {
          "base_uri": "https://localhost:8080/",
          "height": 558
        },
        "id": "rqSKOvXrKtUx",
        "outputId": "1bfe4f67-d404-44de-8769-69497acaacc2"
      },
      "outputs": [
        {
          "output_type": "execute_result",
          "data": {
            "text/plain": [
              "([0, 1, 2, 3],\n",
              " [Text(0, 0, '2019'),\n",
              "  Text(1, 0, '2020'),\n",
              "  Text(2, 0, '2018'),\n",
              "  Text(3, 0, '2021')])"
            ]
          },
          "metadata": {},
          "execution_count": 28
        },
        {
          "output_type": "display_data",
          "data": {
            "text/plain": [
              "<Figure size 640x480 with 1 Axes>"
            ],
            "image/png": "[encoded data removed]"
          },
          "metadata": {}
        }
      ],
      "source": [
        "sns.countplot(x='Start year',data= df)\n",
        "plt.xticks(rotation=90)"
      ]
    },
    {
      "cell_type": "code",
      "execution_count": null,
      "metadata": {
        "colab": {
          "base_uri": "https://localhost:8080/",
          "height": 472
        },
        "id": "qkeV3y0NLR4p",
        "outputId": "83e1501a-6eaf-4c91-9c74-be86407bad94"
      },
      "outputs": [
        {
          "output_type": "execute_result",
          "data": {
            "text/plain": [
              "<Axes: xlabel='placed', ylabel='count'>"
            ]
          },
          "metadata": {},
          "execution_count": 29
        },
        {
          "output_type": "display_data",
          "data": {
            "text/plain": [
              "<Figure size 640x480 with 1 Axes>"
            ],
            "image/png": "[encoded data removed]"
          },
          "metadata": {}
        }
      ],
      "source": [
        "sns.countplot(x='placed', data= df)"
      ]
    },
    {
      "cell_type": "code",
      "source": [
        "cols=[ 'primary_track', 'employment_status ',\n",
        "       'highest_level_of_education', 'length_of_job_search',\n",
        "       'biggest_challenge_in_search', 'professional_experience',\n",
        "       'work_authorization_status', 'gender', 'race']\n",
        "dic_pivot={}\n",
        "for col in cols:\n",
        "    pivot_table1=pd.pivot_table(df[[col,'placed']],index='placed', columns=col, aggfunc='size')\n",
        "    column_total=pivot_table1.sum()\n",
        "    pivot_table2=pivot_table1.divide(column_total)*100\n",
        "    pivot_table2.index=['Not placed %','Placed %']\n",
        "    row_total=column_total.sum()\n",
        "    population=column_total.divide(row_total)*100\n",
        "    pivot_table2.loc['population %']=population\n",
        "    dic_pivot[col]=pivot_table2\n",
        "    ptivot_heat=pivot_table2.style.background_gradient(cmap ='viridis').format(\"{:.2f}\")\n",
        "    display(ptivot_heat)"
      ],
      "metadata": {
        "colab": {
          "base_uri": "https://localhost:8080/",
          "height": 1000
        },
        "id": "K_gxXP_MXbJE",
        "outputId": "a6bc5443-7906-4888-9f98-7d7208e57617"
      },
      "execution_count": null,
      "outputs": [
        {
          "output_type": "display_data",
          "data": {
            "text/plain": [
              "<pandas.io.formats.style.Styler at 0x7f662d314df0>"
            ],
            "text/html": [
              "<style type=\"text/css\">\n",
              "#T_03a2c_row0_col0, #T_03a2c_row0_col1, #T_03a2c_row0_col2, #T_03a2c_row0_col3, #T_03a2c_row0_col5, #T_03a2c_row1_col2, #T_03a2c_row2_col4 {\n",
              "  background-color: #fde725;\n",
              "  color: #000000;\n",
              "}\n",
              "#T_03a2c_row0_col4, #T_03a2c_row2_col0, #T_03a2c_row2_col1, #T_03a2c_row2_col2, #T_03a2c_row2_col3, #T_03a2c_row2_col5 {\n",
              "  background-color: #440154;\n",
              "  color: #f1f1f1;\n",
              "}\n",
              "#T_03a2c_row1_col0 {\n",
              "  background-color: #f6e620;\n",
              "  color: #000000;\n",
              "}\n",
              "#T_03a2c_row1_col1 {\n",
              "  background-color: #73d056;\n",
              "  color: #000000;\n",
              "}\n",
              "#T_03a2c_row1_col3 {\n",
              "  background-color: #277e8e;\n",
              "  color: #f1f1f1;\n",
              "}\n",
              "#T_03a2c_row1_col4 {\n",
              "  background-color: #29798e;\n",
              "  color: #f1f1f1;\n",
              "}\n",
              "#T_03a2c_row1_col5 {\n",
              "  background-color: #31678e;\n",
              "  color: #f1f1f1;\n",
              "}\n",
              "</style>\n",
              "<table id=\"T_03a2c\" class=\"dataframe\">\n",
              "  <thead>\n",
              "    <tr>\n",
              "      <th class=\"index_name level0\" >primary_track</th>\n",
              "      <th id=\"T_03a2c_level0_col0\" class=\"col_heading level0 col0\" >Data</th>\n",
              "      <th id=\"T_03a2c_level0_col1\" class=\"col_heading level0 col1\" >Design</th>\n",
              "      <th id=\"T_03a2c_level0_col2\" class=\"col_heading level0 col2\" >Marketing</th>\n",
              "      <th id=\"T_03a2c_level0_col3\" class=\"col_heading level0 col3\" >PSO</th>\n",
              "      <th id=\"T_03a2c_level0_col4\" class=\"col_heading level0 col4\" >SWE</th>\n",
              "      <th id=\"T_03a2c_level0_col5\" class=\"col_heading level0 col5\" >Web</th>\n",
              "    </tr>\n",
              "  </thead>\n",
              "  <tbody>\n",
              "    <tr>\n",
              "      <th id=\"T_03a2c_level0_row0\" class=\"row_heading level0 row0\" >Not placed %</th>\n",
              "      <td id=\"T_03a2c_row0_col0\" class=\"data row0 col0\" >50.28</td>\n",
              "      <td id=\"T_03a2c_row0_col1\" class=\"data row0 col1\" >54.68</td>\n",
              "      <td id=\"T_03a2c_row0_col2\" class=\"data row0 col2\" >50.00</td>\n",
              "      <td id=\"T_03a2c_row0_col3\" class=\"data row0 col3\" >65.35</td>\n",
              "      <td id=\"T_03a2c_row0_col4\" class=\"data row0 col4\" >45.60</td>\n",
              "      <td id=\"T_03a2c_row0_col5\" class=\"data row0 col5\" >75.00</td>\n",
              "    </tr>\n",
              "    <tr>\n",
              "      <th id=\"T_03a2c_level0_row1\" class=\"row_heading level0 row1\" >Placed %</th>\n",
              "      <td id=\"T_03a2c_row1_col0\" class=\"data row1 col0\" >49.72</td>\n",
              "      <td id=\"T_03a2c_row1_col1\" class=\"data row1 col1\" >45.32</td>\n",
              "      <td id=\"T_03a2c_row1_col2\" class=\"data row1 col2\" >50.00</td>\n",
              "      <td id=\"T_03a2c_row1_col3\" class=\"data row1 col3\" >34.65</td>\n",
              "      <td id=\"T_03a2c_row1_col4\" class=\"data row1 col4\" >54.40</td>\n",
              "      <td id=\"T_03a2c_row1_col5\" class=\"data row1 col5\" >25.00</td>\n",
              "    </tr>\n",
              "    <tr>\n",
              "      <th id=\"T_03a2c_level0_row2\" class=\"row_heading level0 row2\" >population %</th>\n",
              "      <td id=\"T_03a2c_row2_col0\" class=\"data row2 col0\" >9.38</td>\n",
              "      <td id=\"T_03a2c_row2_col1\" class=\"data row2 col1\" >10.76</td>\n",
              "      <td id=\"T_03a2c_row2_col2\" class=\"data row2 col2\" >0.11</td>\n",
              "      <td id=\"T_03a2c_row2_col3\" class=\"data row2 col3\" >12.09</td>\n",
              "      <td id=\"T_03a2c_row2_col4\" class=\"data row2 col4\" >67.44</td>\n",
              "      <td id=\"T_03a2c_row2_col5\" class=\"data row2 col5\" >0.21</td>\n",
              "    </tr>\n",
              "  </tbody>\n",
              "</table>\n"
            ]
          },
          "metadata": {}
        },
        {
          "output_type": "display_data",
          "data": {
            "text/plain": [
              "<pandas.io.formats.style.Styler at 0x7f66679ed840>"
            ],
            "text/html": [
              "<style type=\"text/css\">\n",
              "#T_80a75_row0_col0, #T_80a75_row0_col1, #T_80a75_row1_col2, #T_80a75_row1_col3, #T_80a75_row1_col4 {\n",
              "  background-color: #fde725;\n",
              "  color: #000000;\n",
              "}\n",
              "#T_80a75_row0_col2 {\n",
              "  background-color: #a0da39;\n",
              "  color: #000000;\n",
              "}\n",
              "#T_80a75_row0_col3 {\n",
              "  background-color: #44bf70;\n",
              "  color: #f1f1f1;\n",
              "}\n",
              "#T_80a75_row0_col4 {\n",
              "  background-color: #b5de2b;\n",
              "  color: #000000;\n",
              "}\n",
              "#T_80a75_row1_col0 {\n",
              "  background-color: #2db27d;\n",
              "  color: #f1f1f1;\n",
              "}\n",
              "#T_80a75_row1_col1 {\n",
              "  background-color: #cae11f;\n",
              "  color: #000000;\n",
              "}\n",
              "#T_80a75_row2_col0, #T_80a75_row2_col1, #T_80a75_row2_col2, #T_80a75_row2_col3, #T_80a75_row2_col4 {\n",
              "  background-color: #440154;\n",
              "  color: #f1f1f1;\n",
              "}\n",
              "</style>\n",
              "<table id=\"T_80a75\" class=\"dataframe\">\n",
              "  <thead>\n",
              "    <tr>\n",
              "      <th class=\"index_name level0\" >employment_status </th>\n",
              "      <th id=\"T_80a75_level0_col0\" class=\"col_heading level0 col0\" >Contractor</th>\n",
              "      <th id=\"T_80a75_level0_col1\" class=\"col_heading level0 col1\" >Employed Full-Time</th>\n",
              "      <th id=\"T_80a75_level0_col2\" class=\"col_heading level0 col2\" >Employed Part-Time</th>\n",
              "      <th id=\"T_80a75_level0_col3\" class=\"col_heading level0 col3\" >Student</th>\n",
              "      <th id=\"T_80a75_level0_col4\" class=\"col_heading level0 col4\" >Unemployed</th>\n",
              "    </tr>\n",
              "  </thead>\n",
              "  <tbody>\n",
              "    <tr>\n",
              "      <th id=\"T_80a75_level0_row0\" class=\"row_heading level0 row0\" >Not placed %</th>\n",
              "      <td id=\"T_80a75_row0_col0\" class=\"data row0 col0\" >59.40</td>\n",
              "      <td id=\"T_80a75_row0_col1\" class=\"data row0 col1\" >51.38</td>\n",
              "      <td id=\"T_80a75_row0_col2\" class=\"data row0 col2\" >46.97</td>\n",
              "      <td id=\"T_80a75_row0_col3\" class=\"data row0 col3\" >48.11</td>\n",
              "      <td id=\"T_80a75_row0_col4\" class=\"data row0 col4\" >48.57</td>\n",
              "    </tr>\n",
              "    <tr>\n",
              "      <th id=\"T_80a75_level0_row1\" class=\"row_heading level0 row1\" >Placed %</th>\n",
              "      <td id=\"T_80a75_row1_col0\" class=\"data row1 col0\" >40.60</td>\n",
              "      <td id=\"T_80a75_row1_col1\" class=\"data row1 col1\" >48.62</td>\n",
              "      <td id=\"T_80a75_row1_col2\" class=\"data row1 col2\" >53.03</td>\n",
              "      <td id=\"T_80a75_row1_col3\" class=\"data row1 col3\" >51.89</td>\n",
              "      <td id=\"T_80a75_row1_col4\" class=\"data row1 col4\" >51.43</td>\n",
              "    </tr>\n",
              "    <tr>\n",
              "      <th id=\"T_80a75_level0_row2\" class=\"row_heading level0 row2\" >population %</th>\n",
              "      <td id=\"T_80a75_row2_col0\" class=\"data row2 col0\" >7.05</td>\n",
              "      <td id=\"T_80a75_row2_col1\" class=\"data row2 col1\" >17.23</td>\n",
              "      <td id=\"T_80a75_row2_col2\" class=\"data row2 col2\" >10.50</td>\n",
              "      <td id=\"T_80a75_row2_col3\" class=\"data row2 col3\" >39.24</td>\n",
              "      <td id=\"T_80a75_row2_col4\" class=\"data row2 col4\" >25.98</td>\n",
              "    </tr>\n",
              "  </tbody>\n",
              "</table>\n"
            ]
          },
          "metadata": {}
        },
        {
          "output_type": "display_data",
          "data": {
            "text/plain": [
              "<pandas.io.formats.style.Styler at 0x7f662f3c6bf0>"
            ],
            "text/html": [
              "<style type=\"text/css\">\n",
              "#T_596e0_row0_col0, #T_596e0_row2_col1, #T_596e0_row2_col2, #T_596e0_row2_col3, #T_596e0_row2_col4, #T_596e0_row2_col5, #T_596e0_row2_col6 {\n",
              "  background-color: #440154;\n",
              "  color: #f1f1f1;\n",
              "}\n",
              "#T_596e0_row0_col1 {\n",
              "  background-color: #29af7f;\n",
              "  color: #f1f1f1;\n",
              "}\n",
              "#T_596e0_row0_col2, #T_596e0_row0_col4, #T_596e0_row0_col5, #T_596e0_row0_col6, #T_596e0_row1_col1, #T_596e0_row1_col3, #T_596e0_row2_col0 {\n",
              "  background-color: #fde725;\n",
              "  color: #000000;\n",
              "}\n",
              "#T_596e0_row0_col3 {\n",
              "  background-color: #424186;\n",
              "  color: #f1f1f1;\n",
              "}\n",
              "#T_596e0_row1_col0 {\n",
              "  background-color: #2e6d8e;\n",
              "  color: #f1f1f1;\n",
              "}\n",
              "#T_596e0_row1_col2 {\n",
              "  background-color: #1e9c89;\n",
              "  color: #f1f1f1;\n",
              "}\n",
              "#T_596e0_row1_col4 {\n",
              "  background-color: #7cd250;\n",
              "  color: #000000;\n",
              "}\n",
              "#T_596e0_row1_col5 {\n",
              "  background-color: #f1e51d;\n",
              "  color: #000000;\n",
              "}\n",
              "#T_596e0_row1_col6 {\n",
              "  background-color: #26828e;\n",
              "  color: #f1f1f1;\n",
              "}\n",
              "</style>\n",
              "<table id=\"T_596e0\" class=\"dataframe\">\n",
              "  <thead>\n",
              "    <tr>\n",
              "      <th class=\"index_name level0\" >highest_level_of_education</th>\n",
              "      <th id=\"T_596e0_level0_col0\" class=\"col_heading level0 col0\" >Bachelor's Degree</th>\n",
              "      <th id=\"T_596e0_level0_col1\" class=\"col_heading level0 col1\" >Doctorate or Professional Degree</th>\n",
              "      <th id=\"T_596e0_level0_col2\" class=\"col_heading level0 col2\" >GED or equivalent</th>\n",
              "      <th id=\"T_596e0_level0_col3\" class=\"col_heading level0 col3\" >High School Graduate</th>\n",
              "      <th id=\"T_596e0_level0_col4\" class=\"col_heading level0 col4\" >Master's Degree</th>\n",
              "      <th id=\"T_596e0_level0_col5\" class=\"col_heading level0 col5\" >Some College, No Degree</th>\n",
              "      <th id=\"T_596e0_level0_col6\" class=\"col_heading level0 col6\" >Some High School</th>\n",
              "    </tr>\n",
              "  </thead>\n",
              "  <tbody>\n",
              "    <tr>\n",
              "      <th id=\"T_596e0_level0_row0\" class=\"row_heading level0 row0\" >Not placed %</th>\n",
              "      <td id=\"T_596e0_row0_col0\" class=\"data row0 col0\" >48.76</td>\n",
              "      <td id=\"T_596e0_row0_col1\" class=\"data row0 col1\" >39.80</td>\n",
              "      <td id=\"T_596e0_row0_col2\" class=\"data row0 col2\" >64.29</td>\n",
              "      <td id=\"T_596e0_row0_col3\" class=\"data row0 col3\" >16.67</td>\n",
              "      <td id=\"T_596e0_row0_col4\" class=\"data row0 col4\" >52.01</td>\n",
              "      <td id=\"T_596e0_row0_col5\" class=\"data row0 col5\" >50.50</td>\n",
              "      <td id=\"T_596e0_row0_col6\" class=\"data row0 col6\" >69.23</td>\n",
              "    </tr>\n",
              "    <tr>\n",
              "      <th id=\"T_596e0_level0_row1\" class=\"row_heading level0 row1\" >Placed %</th>\n",
              "      <td id=\"T_596e0_row1_col0\" class=\"data row1 col0\" >51.24</td>\n",
              "      <td id=\"T_596e0_row1_col1\" class=\"data row1 col1\" >60.20</td>\n",
              "      <td id=\"T_596e0_row1_col2\" class=\"data row1 col2\" >35.71</td>\n",
              "      <td id=\"T_596e0_row1_col3\" class=\"data row1 col3\" >83.33</td>\n",
              "      <td id=\"T_596e0_row1_col4\" class=\"data row1 col4\" >47.99</td>\n",
              "      <td id=\"T_596e0_row1_col5\" class=\"data row1 col5\" >49.50</td>\n",
              "      <td id=\"T_596e0_row1_col6\" class=\"data row1 col6\" >30.77</td>\n",
              "    </tr>\n",
              "    <tr>\n",
              "      <th id=\"T_596e0_level0_row2\" class=\"row_heading level0 row2\" >population %</th>\n",
              "      <td id=\"T_596e0_row2_col0\" class=\"data row2 col0\" >55.78</td>\n",
              "      <td id=\"T_596e0_row2_col1\" class=\"data row2 col1\" >5.20</td>\n",
              "      <td id=\"T_596e0_row2_col2\" class=\"data row2 col2\" >0.74</td>\n",
              "      <td id=\"T_596e0_row2_col3\" class=\"data row2 col3\" >0.64</td>\n",
              "      <td id=\"T_596e0_row2_col4\" class=\"data row2 col4\" >31.60</td>\n",
              "      <td id=\"T_596e0_row2_col5\" class=\"data row2 col5\" >5.36</td>\n",
              "      <td id=\"T_596e0_row2_col6\" class=\"data row2 col6\" >0.69</td>\n",
              "    </tr>\n",
              "  </tbody>\n",
              "</table>\n"
            ]
          },
          "metadata": {}
        },
        {
          "output_type": "display_data",
          "data": {
            "text/plain": [
              "<pandas.io.formats.style.Styler at 0x7f66306f5db0>"
            ],
            "text/html": [
              "<style type=\"text/css\">\n",
              "#T_cad6d_row0_col0, #T_cad6d_row2_col1 {\n",
              "  background-color: #fde725;\n",
              "  color: #000000;\n",
              "}\n",
              "#T_cad6d_row0_col1, #T_cad6d_row2_col0 {\n",
              "  background-color: #440154;\n",
              "  color: #f1f1f1;\n",
              "}\n",
              "#T_cad6d_row1_col0 {\n",
              "  background-color: #8bd646;\n",
              "  color: #000000;\n",
              "}\n",
              "#T_cad6d_row1_col1 {\n",
              "  background-color: #443a83;\n",
              "  color: #f1f1f1;\n",
              "}\n",
              "</style>\n",
              "<table id=\"T_cad6d\" class=\"dataframe\">\n",
              "  <thead>\n",
              "    <tr>\n",
              "      <th class=\"index_name level0\" >length_of_job_search</th>\n",
              "      <th id=\"T_cad6d_level0_col0\" class=\"col_heading level0 col0\" >Long</th>\n",
              "      <th id=\"T_cad6d_level0_col1\" class=\"col_heading level0 col1\" >Short</th>\n",
              "    </tr>\n",
              "  </thead>\n",
              "  <tbody>\n",
              "    <tr>\n",
              "      <th id=\"T_cad6d_level0_row0\" class=\"row_heading level0 row0\" >Not placed %</th>\n",
              "      <td id=\"T_cad6d_row0_col0\" class=\"data row0 col0\" >51.61</td>\n",
              "      <td id=\"T_cad6d_row0_col1\" class=\"data row0 col1\" >48.42</td>\n",
              "    </tr>\n",
              "    <tr>\n",
              "      <th id=\"T_cad6d_level0_row1\" class=\"row_heading level0 row1\" >Placed %</th>\n",
              "      <td id=\"T_cad6d_row1_col0\" class=\"data row1 col0\" >48.39</td>\n",
              "      <td id=\"T_cad6d_row1_col1\" class=\"data row1 col1\" >51.58</td>\n",
              "    </tr>\n",
              "    <tr>\n",
              "      <th id=\"T_cad6d_level0_row2\" class=\"row_heading level0 row2\" >population %</th>\n",
              "      <td id=\"T_cad6d_row2_col0\" class=\"data row2 col0\" >32.98</td>\n",
              "      <td id=\"T_cad6d_row2_col1\" class=\"data row2 col1\" >67.02</td>\n",
              "    </tr>\n",
              "  </tbody>\n",
              "</table>\n"
            ]
          },
          "metadata": {}
        },
        {
          "output_type": "display_data",
          "data": {
            "text/plain": [
              "<pandas.io.formats.style.Styler at 0x7f666662caf0>"
            ],
            "text/html": [
              "<style type=\"text/css\">\n",
              "#T_f8329_row0_col0 {\n",
              "  background-color: #58c765;\n",
              "  color: #000000;\n",
              "}\n",
              "#T_f8329_row0_col1, #T_f8329_row0_col4, #T_f8329_row0_col7, #T_f8329_row0_col9, #T_f8329_row1_col0, #T_f8329_row1_col2, #T_f8329_row1_col3, #T_f8329_row1_col5, #T_f8329_row1_col6, #T_f8329_row1_col8 {\n",
              "  background-color: #fde725;\n",
              "  color: #000000;\n",
              "}\n",
              "#T_f8329_row0_col2 {\n",
              "  background-color: #90d743;\n",
              "  color: #000000;\n",
              "}\n",
              "#T_f8329_row0_col3 {\n",
              "  background-color: #bddf26;\n",
              "  color: #000000;\n",
              "}\n",
              "#T_f8329_row0_col5 {\n",
              "  background-color: #f6e620;\n",
              "  color: #000000;\n",
              "}\n",
              "#T_f8329_row0_col6 {\n",
              "  background-color: #dae319;\n",
              "  color: #000000;\n",
              "}\n",
              "#T_f8329_row0_col8 {\n",
              "  background-color: #d2e21b;\n",
              "  color: #000000;\n",
              "}\n",
              "#T_f8329_row1_col1 {\n",
              "  background-color: #dde318;\n",
              "  color: #000000;\n",
              "}\n",
              "#T_f8329_row1_col4 {\n",
              "  background-color: #eae51a;\n",
              "  color: #000000;\n",
              "}\n",
              "#T_f8329_row1_col7 {\n",
              "  background-color: #32b67a;\n",
              "  color: #f1f1f1;\n",
              "}\n",
              "#T_f8329_row1_col9 {\n",
              "  background-color: #24868e;\n",
              "  color: #f1f1f1;\n",
              "}\n",
              "#T_f8329_row2_col0, #T_f8329_row2_col1, #T_f8329_row2_col2, #T_f8329_row2_col3, #T_f8329_row2_col4, #T_f8329_row2_col5, #T_f8329_row2_col6, #T_f8329_row2_col7, #T_f8329_row2_col8, #T_f8329_row2_col9 {\n",
              "  background-color: #440154;\n",
              "  color: #f1f1f1;\n",
              "}\n",
              "</style>\n",
              "<table id=\"T_f8329\" class=\"dataframe\">\n",
              "  <thead>\n",
              "    <tr>\n",
              "      <th class=\"index_name level0\" >biggest_challenge_in_search</th>\n",
              "      <th id=\"T_f8329_level0_col0\" class=\"col_heading level0 col0\" >Behavioral interviewing</th>\n",
              "      <th id=\"T_f8329_level0_col1\" class=\"col_heading level0 col1\" >Figuring out which jobs to apply for</th>\n",
              "      <th id=\"T_f8329_level0_col2\" class=\"col_heading level0 col2\" >Getting past final round interviews</th>\n",
              "      <th id=\"T_f8329_level0_col3\" class=\"col_heading level0 col3\" >Getting past mid-stage interviews</th>\n",
              "      <th id=\"T_f8329_level0_col4\" class=\"col_heading level0 col4\" >Getting past phone screens</th>\n",
              "      <th id=\"T_f8329_level0_col5\" class=\"col_heading level0 col5\" >Hearing back on my applications</th>\n",
              "      <th id=\"T_f8329_level0_col6\" class=\"col_heading level0 col6\" >Lack of relevant experience</th>\n",
              "      <th id=\"T_f8329_level0_col7\" class=\"col_heading level0 col7\" >Resume gap</th>\n",
              "      <th id=\"T_f8329_level0_col8\" class=\"col_heading level0 col8\" >Technical interviewing</th>\n",
              "      <th id=\"T_f8329_level0_col9\" class=\"col_heading level0 col9\" >Technical skills</th>\n",
              "    </tr>\n",
              "  </thead>\n",
              "  <tbody>\n",
              "    <tr>\n",
              "      <th id=\"T_f8329_level0_row0\" class=\"row_heading level0 row0\" >Not placed %</th>\n",
              "      <td id=\"T_f8329_row0_col0\" class=\"data row0 col0\" >42.86</td>\n",
              "      <td id=\"T_f8329_row0_col1\" class=\"data row0 col1\" >51.16</td>\n",
              "      <td id=\"T_f8329_row0_col2\" class=\"data row0 col2\" >46.55</td>\n",
              "      <td id=\"T_f8329_row0_col3\" class=\"data row0 col3\" >47.77</td>\n",
              "      <td id=\"T_f8329_row0_col4\" class=\"data row0 col4\" >50.70</td>\n",
              "      <td id=\"T_f8329_row0_col5\" class=\"data row0 col5\" >49.93</td>\n",
              "      <td id=\"T_f8329_row0_col6\" class=\"data row0 col6\" >48.84</td>\n",
              "      <td id=\"T_f8329_row0_col7\" class=\"data row0 col7\" >60.00</td>\n",
              "      <td id=\"T_f8329_row0_col8\" class=\"data row0 col8\" >48.61</td>\n",
              "      <td id=\"T_f8329_row0_col9\" class=\"data row0 col9\" >68.00</td>\n",
              "    </tr>\n",
              "    <tr>\n",
              "      <th id=\"T_f8329_level0_row1\" class=\"row_heading level0 row1\" >Placed %</th>\n",
              "      <td id=\"T_f8329_row1_col0\" class=\"data row1 col0\" >57.14</td>\n",
              "      <td id=\"T_f8329_row1_col1\" class=\"data row1 col1\" >48.84</td>\n",
              "      <td id=\"T_f8329_row1_col2\" class=\"data row1 col2\" >53.45</td>\n",
              "      <td id=\"T_f8329_row1_col3\" class=\"data row1 col3\" >52.23</td>\n",
              "      <td id=\"T_f8329_row1_col4\" class=\"data row1 col4\" >49.30</td>\n",
              "      <td id=\"T_f8329_row1_col5\" class=\"data row1 col5\" >50.07</td>\n",
              "      <td id=\"T_f8329_row1_col6\" class=\"data row1 col6\" >51.16</td>\n",
              "      <td id=\"T_f8329_row1_col7\" class=\"data row1 col7\" >40.00</td>\n",
              "      <td id=\"T_f8329_row1_col8\" class=\"data row1 col8\" >51.39</td>\n",
              "      <td id=\"T_f8329_row1_col9\" class=\"data row1 col9\" >32.00</td>\n",
              "    </tr>\n",
              "    <tr>\n",
              "      <th id=\"T_f8329_level0_row2\" class=\"row_heading level0 row2\" >population %</th>\n",
              "      <td id=\"T_f8329_row2_col0\" class=\"data row2 col0\" >2.23</td>\n",
              "      <td id=\"T_f8329_row2_col1\" class=\"data row2 col1\" >6.84</td>\n",
              "      <td id=\"T_f8329_row2_col2\" class=\"data row2 col2\" >12.30</td>\n",
              "      <td id=\"T_f8329_row2_col3\" class=\"data row2 col3\" >8.32</td>\n",
              "      <td id=\"T_f8329_row2_col4\" class=\"data row2 col4\" >7.53</td>\n",
              "      <td id=\"T_f8329_row2_col5\" class=\"data row2 col5\" >39.29</td>\n",
              "      <td id=\"T_f8329_row2_col6\" class=\"data row2 col6\" >9.12</td>\n",
              "      <td id=\"T_f8329_row2_col7\" class=\"data row2 col7\" >1.59</td>\n",
              "      <td id=\"T_f8329_row2_col8\" class=\"data row2 col8\" >11.45</td>\n",
              "      <td id=\"T_f8329_row2_col9\" class=\"data row2 col9\" >1.33</td>\n",
              "    </tr>\n",
              "  </tbody>\n",
              "</table>\n"
            ]
          },
          "metadata": {}
        },
        {
          "output_type": "display_data",
          "data": {
            "text/plain": [
              "<pandas.io.formats.style.Styler at 0x7f662d06a260>"
            ],
            "text/html": [
              "<style type=\"text/css\">\n",
              "#T_674ac_row0_col0 {\n",
              "  background-color: #6ece58;\n",
              "  color: #000000;\n",
              "}\n",
              "#T_674ac_row0_col1, #T_674ac_row1_col0, #T_674ac_row1_col2, #T_674ac_row1_col3, #T_674ac_row1_col4 {\n",
              "  background-color: #fde725;\n",
              "  color: #000000;\n",
              "}\n",
              "#T_674ac_row0_col2 {\n",
              "  background-color: #b0dd2f;\n",
              "  color: #000000;\n",
              "}\n",
              "#T_674ac_row0_col3 {\n",
              "  background-color: #93d741;\n",
              "  color: #000000;\n",
              "}\n",
              "#T_674ac_row0_col4 {\n",
              "  background-color: #c5e021;\n",
              "  color: #000000;\n",
              "}\n",
              "#T_674ac_row1_col1 {\n",
              "  background-color: #228b8d;\n",
              "  color: #f1f1f1;\n",
              "}\n",
              "#T_674ac_row2_col0, #T_674ac_row2_col1, #T_674ac_row2_col2, #T_674ac_row2_col3, #T_674ac_row2_col4 {\n",
              "  background-color: #440154;\n",
              "  color: #f1f1f1;\n",
              "}\n",
              "</style>\n",
              "<table id=\"T_674ac\" class=\"dataframe\">\n",
              "  <thead>\n",
              "    <tr>\n",
              "      <th class=\"index_name level0\" >professional_experience</th>\n",
              "      <th id=\"T_674ac_level0_col0\" class=\"col_heading level0 col0\" >1-2 years</th>\n",
              "      <th id=\"T_674ac_level0_col1\" class=\"col_heading level0 col1\" >1-2 years </th>\n",
              "      <th id=\"T_674ac_level0_col2\" class=\"col_heading level0 col2\" >3-4 years</th>\n",
              "      <th id=\"T_674ac_level0_col3\" class=\"col_heading level0 col3\" >5+ years</th>\n",
              "      <th id=\"T_674ac_level0_col4\" class=\"col_heading level0 col4\" >Less than one year</th>\n",
              "    </tr>\n",
              "  </thead>\n",
              "  <tbody>\n",
              "    <tr>\n",
              "      <th id=\"T_674ac_level0_row0\" class=\"row_heading level0 row0\" >Not placed %</th>\n",
              "      <td id=\"T_674ac_row0_col0\" class=\"data row0 col0\" >47.93</td>\n",
              "      <td id=\"T_674ac_row0_col1\" class=\"data row0 col1\" >64.74</td>\n",
              "      <td id=\"T_674ac_row0_col2\" class=\"data row0 col2\" >48.28</td>\n",
              "      <td id=\"T_674ac_row0_col3\" class=\"data row0 col3\" >46.50</td>\n",
              "      <td id=\"T_674ac_row0_col4\" class=\"data row0 col4\" >48.82</td>\n",
              "    </tr>\n",
              "    <tr>\n",
              "      <th id=\"T_674ac_level0_row1\" class=\"row_heading level0 row1\" >Placed %</th>\n",
              "      <td id=\"T_674ac_row1_col0\" class=\"data row1 col0\" >52.07</td>\n",
              "      <td id=\"T_674ac_row1_col1\" class=\"data row1 col1\" >35.26</td>\n",
              "      <td id=\"T_674ac_row1_col2\" class=\"data row1 col2\" >51.72</td>\n",
              "      <td id=\"T_674ac_row1_col3\" class=\"data row1 col3\" >53.50</td>\n",
              "      <td id=\"T_674ac_row1_col4\" class=\"data row1 col4\" >51.18</td>\n",
              "    </tr>\n",
              "    <tr>\n",
              "      <th id=\"T_674ac_level0_row2\" class=\"row_heading level0 row2\" >population %</th>\n",
              "      <td id=\"T_674ac_row2_col0\" class=\"data row2 col0\" >33.30</td>\n",
              "      <td id=\"T_674ac_row2_col1\" class=\"data row2 col1\" >8.27</td>\n",
              "      <td id=\"T_674ac_row2_col2\" class=\"data row2 col2\" >23.17</td>\n",
              "      <td id=\"T_674ac_row2_col3\" class=\"data row2 col3\" >10.60</td>\n",
              "      <td id=\"T_674ac_row2_col4\" class=\"data row2 col4\" >24.66</td>\n",
              "    </tr>\n",
              "  </tbody>\n",
              "</table>\n"
            ]
          },
          "metadata": {}
        },
        {
          "output_type": "display_data",
          "data": {
            "text/plain": [
              "<pandas.io.formats.style.Styler at 0x7f662d0a7670>"
            ],
            "text/html": [
              "<style type=\"text/css\">\n",
              "#T_397b9_row0_col0, #T_397b9_row0_col1, #T_397b9_row0_col4, #T_397b9_row0_col5, #T_397b9_row0_col6, #T_397b9_row0_col8, #T_397b9_row1_col3, #T_397b9_row1_col7, #T_397b9_row2_col2 {\n",
              "  background-color: #fde725;\n",
              "  color: #000000;\n",
              "}\n",
              "#T_397b9_row0_col2, #T_397b9_row2_col0, #T_397b9_row2_col1, #T_397b9_row2_col3, #T_397b9_row2_col4, #T_397b9_row2_col5, #T_397b9_row2_col6, #T_397b9_row2_col7, #T_397b9_row2_col8 {\n",
              "  background-color: #440154;\n",
              "  color: #f1f1f1;\n",
              "}\n",
              "#T_397b9_row0_col3 {\n",
              "  background-color: #dfe318;\n",
              "  color: #000000;\n",
              "}\n",
              "#T_397b9_row0_col7 {\n",
              "  background-color: #7cd250;\n",
              "  color: #000000;\n",
              "}\n",
              "#T_397b9_row1_col0 {\n",
              "  background-color: #c5e021;\n",
              "  color: #000000;\n",
              "}\n",
              "#T_397b9_row1_col1 {\n",
              "  background-color: #84d44b;\n",
              "  color: #000000;\n",
              "}\n",
              "#T_397b9_row1_col2 {\n",
              "  background-color: #27ad81;\n",
              "  color: #f1f1f1;\n",
              "}\n",
              "#T_397b9_row1_col4 {\n",
              "  background-color: #1e9d89;\n",
              "  color: #f1f1f1;\n",
              "}\n",
              "#T_397b9_row1_col5 {\n",
              "  background-color: #000000;\n",
              "  color: #f1f1f1;\n",
              "}\n",
              "#T_397b9_row1_col6 {\n",
              "  background-color: #b5de2b;\n",
              "  color: #000000;\n",
              "}\n",
              "#T_397b9_row1_col8 {\n",
              "  background-color: #35b779;\n",
              "  color: #f1f1f1;\n",
              "}\n",
              "</style>\n",
              "<table id=\"T_397b9\" class=\"dataframe\">\n",
              "  <thead>\n",
              "    <tr>\n",
              "      <th class=\"index_name level0\" >work_authorization_status</th>\n",
              "      <th id=\"T_397b9_level0_col0\" class=\"col_heading level0 col0\" >CPT</th>\n",
              "      <th id=\"T_397b9_level0_col1\" class=\"col_heading level0 col1\" >Canada Citizen</th>\n",
              "      <th id=\"T_397b9_level0_col2\" class=\"col_heading level0 col2\" >Citizen</th>\n",
              "      <th id=\"T_397b9_level0_col3\" class=\"col_heading level0 col3\" >Green Card</th>\n",
              "      <th id=\"T_397b9_level0_col4\" class=\"col_heading level0 col4\" >H1B</th>\n",
              "      <th id=\"T_397b9_level0_col5\" class=\"col_heading level0 col5\" >Not Authorized</th>\n",
              "      <th id=\"T_397b9_level0_col6\" class=\"col_heading level0 col6\" >OPT</th>\n",
              "      <th id=\"T_397b9_level0_col7\" class=\"col_heading level0 col7\" >Other</th>\n",
              "      <th id=\"T_397b9_level0_col8\" class=\"col_heading level0 col8\" >STEM OPT</th>\n",
              "    </tr>\n",
              "  </thead>\n",
              "  <tbody>\n",
              "    <tr>\n",
              "      <th id=\"T_397b9_level0_row0\" class=\"row_heading level0 row0\" >Not placed %</th>\n",
              "      <td id=\"T_397b9_row0_col0\" class=\"data row0 col0\" >52.08</td>\n",
              "      <td id=\"T_397b9_row0_col1\" class=\"data row0 col1\" >55.00</td>\n",
              "      <td id=\"T_397b9_row0_col2\" class=\"data row0 col2\" >47.87</td>\n",
              "      <td id=\"T_397b9_row0_col3\" class=\"data row0 col3\" >48.89</td>\n",
              "      <td id=\"T_397b9_row0_col4\" class=\"data row0 col4\" >63.89</td>\n",
              "      <td id=\"T_397b9_row0_col5\" class=\"data row0 col5\" >100.00</td>\n",
              "      <td id=\"T_397b9_row0_col6\" class=\"data row0 col6\" >51.46</td>\n",
              "      <td id=\"T_397b9_row0_col7\" class=\"data row0 col7\" >45.00</td>\n",
              "      <td id=\"T_397b9_row0_col8\" class=\"data row0 col8\" >60.00</td>\n",
              "    </tr>\n",
              "    <tr>\n",
              "      <th id=\"T_397b9_level0_row1\" class=\"row_heading level0 row1\" >Placed %</th>\n",
              "      <td id=\"T_397b9_row1_col0\" class=\"data row1 col0\" >47.92</td>\n",
              "      <td id=\"T_397b9_row1_col1\" class=\"data row1 col1\" >45.00</td>\n",
              "      <td id=\"T_397b9_row1_col2\" class=\"data row1 col2\" >52.13</td>\n",
              "      <td id=\"T_397b9_row1_col3\" class=\"data row1 col3\" >51.11</td>\n",
              "      <td id=\"T_397b9_row1_col4\" class=\"data row1 col4\" >36.11</td>\n",
              "      <td id=\"T_397b9_row1_col5\" class=\"data row1 col5\" >nan</td>\n",
              "      <td id=\"T_397b9_row1_col6\" class=\"data row1 col6\" >48.54</td>\n",
              "      <td id=\"T_397b9_row1_col7\" class=\"data row1 col7\" >55.00</td>\n",
              "      <td id=\"T_397b9_row1_col8\" class=\"data row1 col8\" >40.00</td>\n",
              "    </tr>\n",
              "    <tr>\n",
              "      <th id=\"T_397b9_level0_row2\" class=\"row_heading level0 row2\" >population %</th>\n",
              "      <td id=\"T_397b9_row2_col0\" class=\"data row2 col0\" >5.09</td>\n",
              "      <td id=\"T_397b9_row2_col1\" class=\"data row2 col1\" >1.06</td>\n",
              "      <td id=\"T_397b9_row2_col2\" class=\"data row2 col2\" >54.72</td>\n",
              "      <td id=\"T_397b9_row2_col3\" class=\"data row2 col3\" >7.16</td>\n",
              "      <td id=\"T_397b9_row2_col4\" class=\"data row2 col4\" >1.91</td>\n",
              "      <td id=\"T_397b9_row2_col5\" class=\"data row2 col5\" >0.21</td>\n",
              "      <td id=\"T_397b9_row2_col6\" class=\"data row2 col6\" >25.34</td>\n",
              "      <td id=\"T_397b9_row2_col7\" class=\"data row2 col7\" >4.24</td>\n",
              "      <td id=\"T_397b9_row2_col8\" class=\"data row2 col8\" >0.27</td>\n",
              "    </tr>\n",
              "  </tbody>\n",
              "</table>\n"
            ]
          },
          "metadata": {}
        },
        {
          "output_type": "display_data",
          "data": {
            "text/plain": [
              "<pandas.io.formats.style.Styler at 0x7f662d2d3a60>"
            ],
            "text/html": [
              "<style type=\"text/css\">\n",
              "#T_5c85d_row0_col0, #T_5c85d_row0_col1, #T_5c85d_row0_col3, #T_5c85d_row2_col2 {\n",
              "  background-color: #fde725;\n",
              "  color: #000000;\n",
              "}\n",
              "#T_5c85d_row0_col2, #T_5c85d_row2_col0, #T_5c85d_row2_col1, #T_5c85d_row2_col3 {\n",
              "  background-color: #440154;\n",
              "  color: #f1f1f1;\n",
              "}\n",
              "#T_5c85d_row1_col0 {\n",
              "  background-color: #1f968b;\n",
              "  color: #f1f1f1;\n",
              "}\n",
              "#T_5c85d_row1_col1 {\n",
              "  background-color: #95d840;\n",
              "  color: #000000;\n",
              "}\n",
              "#T_5c85d_row1_col2 {\n",
              "  background-color: #4cc26c;\n",
              "  color: #000000;\n",
              "}\n",
              "#T_5c85d_row1_col3 {\n",
              "  background-color: #21908d;\n",
              "  color: #f1f1f1;\n",
              "}\n",
              "</style>\n",
              "<table id=\"T_5c85d\" class=\"dataframe\">\n",
              "  <thead>\n",
              "    <tr>\n",
              "      <th class=\"index_name level0\" >gender</th>\n",
              "      <th id=\"T_5c85d_level0_col0\" class=\"col_heading level0 col0\" >Decline to Self Identify</th>\n",
              "      <th id=\"T_5c85d_level0_col1\" class=\"col_heading level0 col1\" >Female</th>\n",
              "      <th id=\"T_5c85d_level0_col2\" class=\"col_heading level0 col2\" >Male</th>\n",
              "      <th id=\"T_5c85d_level0_col3\" class=\"col_heading level0 col3\" >Non-Binary</th>\n",
              "    </tr>\n",
              "  </thead>\n",
              "  <tbody>\n",
              "    <tr>\n",
              "      <th id=\"T_5c85d_level0_row0\" class=\"row_heading level0 row0\" >Not placed %</th>\n",
              "      <td id=\"T_5c85d_row0_col0\" class=\"data row0 col0\" >59.36</td>\n",
              "      <td id=\"T_5c85d_row0_col1\" class=\"data row0 col1\" >52.51</td>\n",
              "      <td id=\"T_5c85d_row0_col2\" class=\"data row0 col2\" >45.00</td>\n",
              "      <td id=\"T_5c85d_row0_col3\" class=\"data row0 col3\" >66.67</td>\n",
              "    </tr>\n",
              "    <tr>\n",
              "      <th id=\"T_5c85d_level0_row1\" class=\"row_heading level0 row1\" >Placed %</th>\n",
              "      <td id=\"T_5c85d_row1_col0\" class=\"data row1 col0\" >40.64</td>\n",
              "      <td id=\"T_5c85d_row1_col1\" class=\"data row1 col1\" >47.49</td>\n",
              "      <td id=\"T_5c85d_row1_col2\" class=\"data row1 col2\" >55.00</td>\n",
              "      <td id=\"T_5c85d_row1_col3\" class=\"data row1 col3\" >33.33</td>\n",
              "    </tr>\n",
              "    <tr>\n",
              "      <th id=\"T_5c85d_level0_row2\" class=\"row_heading level0 row2\" >population %</th>\n",
              "      <td id=\"T_5c85d_row2_col0\" class=\"data row2 col0\" >19.83</td>\n",
              "      <td id=\"T_5c85d_row2_col1\" class=\"data row2 col1\" >21.10</td>\n",
              "      <td id=\"T_5c85d_row2_col2\" class=\"data row2 col2\" >58.91</td>\n",
              "      <td id=\"T_5c85d_row2_col3\" class=\"data row2 col3\" >0.16</td>\n",
              "    </tr>\n",
              "  </tbody>\n",
              "</table>\n"
            ]
          },
          "metadata": {}
        },
        {
          "output_type": "display_data",
          "data": {
            "text/plain": [
              "<pandas.io.formats.style.Styler at 0x7f662d0a71c0>"
            ],
            "text/html": [
              "<style type=\"text/css\">\n",
              "#T_e34f1_row0_col0, #T_e34f1_row0_col1, #T_e34f1_row0_col2, #T_e34f1_row0_col3, #T_e34f1_row0_col8, #T_e34f1_row1_col4, #T_e34f1_row1_col5, #T_e34f1_row1_col6, #T_e34f1_row1_col7 {\n",
              "  background-color: #fde725;\n",
              "  color: #000000;\n",
              "}\n",
              "#T_e34f1_row0_col4 {\n",
              "  background-color: #34b679;\n",
              "  color: #f1f1f1;\n",
              "}\n",
              "#T_e34f1_row0_col5 {\n",
              "  background-color: #000000;\n",
              "  color: #f1f1f1;\n",
              "}\n",
              "#T_e34f1_row0_col6 {\n",
              "  background-color: #60ca60;\n",
              "  color: #000000;\n",
              "}\n",
              "#T_e34f1_row0_col7 {\n",
              "  background-color: #3dbc74;\n",
              "  color: #f1f1f1;\n",
              "}\n",
              "#T_e34f1_row1_col0 {\n",
              "  background-color: #1f9a8a;\n",
              "  color: #f1f1f1;\n",
              "}\n",
              "#T_e34f1_row1_col1 {\n",
              "  background-color: #29af7f;\n",
              "  color: #f1f1f1;\n",
              "}\n",
              "#T_e34f1_row1_col2 {\n",
              "  background-color: #c2df23;\n",
              "  color: #000000;\n",
              "}\n",
              "#T_e34f1_row1_col3 {\n",
              "  background-color: #4ec36b;\n",
              "  color: #000000;\n",
              "}\n",
              "#T_e34f1_row1_col8 {\n",
              "  background-color: #7ad151;\n",
              "  color: #000000;\n",
              "}\n",
              "#T_e34f1_row2_col0, #T_e34f1_row2_col1, #T_e34f1_row2_col2, #T_e34f1_row2_col3, #T_e34f1_row2_col4, #T_e34f1_row2_col5, #T_e34f1_row2_col6, #T_e34f1_row2_col7, #T_e34f1_row2_col8 {\n",
              "  background-color: #440154;\n",
              "  color: #f1f1f1;\n",
              "}\n",
              "</style>\n",
              "<table id=\"T_e34f1\" class=\"dataframe\">\n",
              "  <thead>\n",
              "    <tr>\n",
              "      <th class=\"index_name level0\" >race</th>\n",
              "      <th id=\"T_e34f1_level0_col0\" class=\"col_heading level0 col0\" >Black, Afro-Caribbean, or African American</th>\n",
              "      <th id=\"T_e34f1_level0_col1\" class=\"col_heading level0 col1\" >Decline to Self Identify</th>\n",
              "      <th id=\"T_e34f1_level0_col2\" class=\"col_heading level0 col2\" >East Asian or Asian American</th>\n",
              "      <th id=\"T_e34f1_level0_col3\" class=\"col_heading level0 col3\" >Latino or Hispanic American</th>\n",
              "      <th id=\"T_e34f1_level0_col4\" class=\"col_heading level0 col4\" >Middle Eastern or Arab American</th>\n",
              "      <th id=\"T_e34f1_level0_col5\" class=\"col_heading level0 col5\" >Native American or Alaskan Native</th>\n",
              "      <th id=\"T_e34f1_level0_col6\" class=\"col_heading level0 col6\" >Non-Hispanic White or Euro-American</th>\n",
              "      <th id=\"T_e34f1_level0_col7\" class=\"col_heading level0 col7\" >South Asian or Indian American</th>\n",
              "      <th id=\"T_e34f1_level0_col8\" class=\"col_heading level0 col8\" >Two or More Races</th>\n",
              "    </tr>\n",
              "  </thead>\n",
              "  <tbody>\n",
              "    <tr>\n",
              "      <th id=\"T_e34f1_level0_row0\" class=\"row_heading level0 row0\" >Not placed %</th>\n",
              "      <td id=\"T_e34f1_row0_col0\" class=\"data row0 col0\" >63.53</td>\n",
              "      <td id=\"T_e34f1_row0_col1\" class=\"data row0 col1\" >60.71</td>\n",
              "      <td id=\"T_e34f1_row0_col2\" class=\"data row0 col2\" >50.66</td>\n",
              "      <td id=\"T_e34f1_row0_col3\" class=\"data row0 col3\" >57.14</td>\n",
              "      <td id=\"T_e34f1_row0_col4\" class=\"data row0 col4\" >40.38</td>\n",
              "      <td id=\"T_e34f1_row0_col5\" class=\"data row0 col5\" >nan</td>\n",
              "      <td id=\"T_e34f1_row0_col6\" class=\"data row0 col6\" >46.06</td>\n",
              "      <td id=\"T_e34f1_row0_col7\" class=\"data row0 col7\" >44.77</td>\n",
              "      <td id=\"T_e34f1_row0_col8\" class=\"data row0 col8\" >55.22</td>\n",
              "    </tr>\n",
              "    <tr>\n",
              "      <th id=\"T_e34f1_level0_row1\" class=\"row_heading level0 row1\" >Placed %</th>\n",
              "      <td id=\"T_e34f1_row1_col0\" class=\"data row1 col0\" >36.47</td>\n",
              "      <td id=\"T_e34f1_row1_col1\" class=\"data row1 col1\" >39.29</td>\n",
              "      <td id=\"T_e34f1_row1_col2\" class=\"data row1 col2\" >49.34</td>\n",
              "      <td id=\"T_e34f1_row1_col3\" class=\"data row1 col3\" >42.86</td>\n",
              "      <td id=\"T_e34f1_row1_col4\" class=\"data row1 col4\" >59.62</td>\n",
              "      <td id=\"T_e34f1_row1_col5\" class=\"data row1 col5\" >100.00</td>\n",
              "      <td id=\"T_e34f1_row1_col6\" class=\"data row1 col6\" >53.94</td>\n",
              "      <td id=\"T_e34f1_row1_col7\" class=\"data row1 col7\" >55.23</td>\n",
              "      <td id=\"T_e34f1_row1_col8\" class=\"data row1 col8\" >44.78</td>\n",
              "    </tr>\n",
              "    <tr>\n",
              "      <th id=\"T_e34f1_level0_row2\" class=\"row_heading level0 row2\" >population %</th>\n",
              "      <td id=\"T_e34f1_row2_col0\" class=\"data row2 col0\" >4.51</td>\n",
              "      <td id=\"T_e34f1_row2_col1\" class=\"data row2 col1\" >2.97</td>\n",
              "      <td id=\"T_e34f1_row2_col2\" class=\"data row2 col2\" >36.43</td>\n",
              "      <td id=\"T_e34f1_row2_col3\" class=\"data row2 col3\" >6.31</td>\n",
              "      <td id=\"T_e34f1_row2_col4\" class=\"data row2 col4\" >2.76</td>\n",
              "      <td id=\"T_e34f1_row2_col5\" class=\"data row2 col5\" >0.16</td>\n",
              "      <td id=\"T_e34f1_row2_col6\" class=\"data row2 col6\" >21.53</td>\n",
              "      <td id=\"T_e34f1_row2_col7\" class=\"data row2 col7\" >21.79</td>\n",
              "      <td id=\"T_e34f1_row2_col8\" class=\"data row2 col8\" >3.55</td>\n",
              "    </tr>\n",
              "  </tbody>\n",
              "</table>\n"
            ]
          },
          "metadata": {}
        }
      ]
    },
    {
      "cell_type": "markdown",
      "metadata": {
        "id": "OHjntUDqK3XZ"
      },
      "source": [
        "### **save new dataframe**"
      ]
    },
    {
      "cell_type": "code",
      "execution_count": null,
      "metadata": {
        "id": "yo-6AZQmKE6b"
      },
      "outputs": [],
      "source": [
        "df.to_csv('Cleaned_Data_Pathrise.xlsx', index=False)"
      ]
    }
  ],
  "metadata": {
    "colab": {
      "provenance": []
    },
    "kernelspec": {
      "display_name": "Python 3",
      "name": "python3"
    },
    "language_info": {
      "name": "python"
    }
  },
  "nbformat": 4,
  "nbformat_minor": 0
}